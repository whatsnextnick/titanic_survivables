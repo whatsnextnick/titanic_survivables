{
 "cells": [
  {
   "cell_type": "code",
   "execution_count": 1,
   "id": "8e5fe9e7",
   "metadata": {
    "_cell_guid": "b1076dfc-b9ad-4769-8c92-a6c4dae69d19",
    "_uuid": "8f2839f25d086af736a60e9eeb907d3b93b6e0e5",
    "execution": {
     "iopub.execute_input": "2024-03-20T04:14:47.807927Z",
     "iopub.status.busy": "2024-03-20T04:14:47.807578Z",
     "iopub.status.idle": "2024-03-20T04:14:51.092904Z",
     "shell.execute_reply": "2024-03-20T04:14:51.091880Z"
    },
    "papermill": {
     "duration": 3.29513,
     "end_time": "2024-03-20T04:14:51.095025",
     "exception": false,
     "start_time": "2024-03-20T04:14:47.799895",
     "status": "completed"
    },
    "tags": []
   },
   "outputs": [
    {
     "name": "stdout",
     "output_type": "stream",
     "text": [
      "/kaggle/input/titanic/train.csv\n",
      "/kaggle/input/titanic/test.csv\n",
      "/kaggle/input/titanic/gender_submission.csv\n"
     ]
    }
   ],
   "source": [
    "# This Python 3 environment comes with many helpful analytics libraries installed\n",
    "# It is defined by the kaggle/python Docker image: https://github.com/kaggle/docker-python\n",
    "# For example, here's several helpful packages to load\n",
    "\n",
    "import numpy as np # linear algebra\n",
    "import matplotlib.pyplot as plt\n",
    "import seaborn as sns\n",
    "import pandas as pd # data processing, CSV file I/O (e.g. pd.read_csv)\n",
    "from sklearn.model_selection import train_test_split\n",
    "from sklearn.linear_model import LogisticRegression\n",
    "from sklearn.metrics import accuracy_score, confusion_matrix, classification_report\n",
    "from sklearn.preprocessing import StandardScaler\n",
    "from sklearn.pipeline import Pipeline\n",
    "\n",
    "# Input data files are available in the read-only \"../input/\" directory\n",
    "# For example, running this (by clicking run or pressing Shift+Enter) will list all files under the input directory\n",
    "\n",
    "import os\n",
    "for dirname, _, filenames in os.walk('/kaggle/input'):\n",
    "    for filename in filenames:\n",
    "        print(os.path.join(dirname, filename))\n",
    "\n",
    "# You can write up to 20GB to the current directory (/kaggle/working/) that gets preserved as output when you create a version using \"Save & Run All\" \n",
    "# You can also write temporary files to /kaggle/temp/, but they won't be saved outside of the current session"
   ]
  },
  {
   "cell_type": "code",
   "execution_count": 2,
   "id": "99466eec",
   "metadata": {
    "execution": {
     "iopub.execute_input": "2024-03-20T04:14:51.108886Z",
     "iopub.status.busy": "2024-03-20T04:14:51.108015Z",
     "iopub.status.idle": "2024-03-20T04:14:51.162959Z",
     "shell.execute_reply": "2024-03-20T04:14:51.162086Z"
    },
    "papermill": {
     "duration": 0.063966,
     "end_time": "2024-03-20T04:14:51.164843",
     "exception": false,
     "start_time": "2024-03-20T04:14:51.100877",
     "status": "completed"
    },
    "tags": []
   },
   "outputs": [
    {
     "data": {
      "text/html": [
       "<div>\n",
       "<style scoped>\n",
       "    .dataframe tbody tr th:only-of-type {\n",
       "        vertical-align: middle;\n",
       "    }\n",
       "\n",
       "    .dataframe tbody tr th {\n",
       "        vertical-align: top;\n",
       "    }\n",
       "\n",
       "    .dataframe thead th {\n",
       "        text-align: right;\n",
       "    }\n",
       "</style>\n",
       "<table border=\"1\" class=\"dataframe\">\n",
       "  <thead>\n",
       "    <tr style=\"text-align: right;\">\n",
       "      <th></th>\n",
       "      <th>PassengerId</th>\n",
       "      <th>Survived</th>\n",
       "      <th>Pclass</th>\n",
       "      <th>Name</th>\n",
       "      <th>Sex</th>\n",
       "      <th>Age</th>\n",
       "      <th>SibSp</th>\n",
       "      <th>Parch</th>\n",
       "      <th>Ticket</th>\n",
       "      <th>Fare</th>\n",
       "      <th>Cabin</th>\n",
       "      <th>Embarked</th>\n",
       "    </tr>\n",
       "  </thead>\n",
       "  <tbody>\n",
       "    <tr>\n",
       "      <th>0</th>\n",
       "      <td>1</td>\n",
       "      <td>0</td>\n",
       "      <td>3</td>\n",
       "      <td>Braund, Mr. Owen Harris</td>\n",
       "      <td>male</td>\n",
       "      <td>22.0</td>\n",
       "      <td>1</td>\n",
       "      <td>0</td>\n",
       "      <td>A/5 21171</td>\n",
       "      <td>7.2500</td>\n",
       "      <td>NaN</td>\n",
       "      <td>S</td>\n",
       "    </tr>\n",
       "    <tr>\n",
       "      <th>1</th>\n",
       "      <td>2</td>\n",
       "      <td>1</td>\n",
       "      <td>1</td>\n",
       "      <td>Cumings, Mrs. John Bradley (Florence Briggs Th...</td>\n",
       "      <td>female</td>\n",
       "      <td>38.0</td>\n",
       "      <td>1</td>\n",
       "      <td>0</td>\n",
       "      <td>PC 17599</td>\n",
       "      <td>71.2833</td>\n",
       "      <td>C85</td>\n",
       "      <td>C</td>\n",
       "    </tr>\n",
       "    <tr>\n",
       "      <th>2</th>\n",
       "      <td>3</td>\n",
       "      <td>1</td>\n",
       "      <td>3</td>\n",
       "      <td>Heikkinen, Miss. Laina</td>\n",
       "      <td>female</td>\n",
       "      <td>26.0</td>\n",
       "      <td>0</td>\n",
       "      <td>0</td>\n",
       "      <td>STON/O2. 3101282</td>\n",
       "      <td>7.9250</td>\n",
       "      <td>NaN</td>\n",
       "      <td>S</td>\n",
       "    </tr>\n",
       "    <tr>\n",
       "      <th>3</th>\n",
       "      <td>4</td>\n",
       "      <td>1</td>\n",
       "      <td>1</td>\n",
       "      <td>Futrelle, Mrs. Jacques Heath (Lily May Peel)</td>\n",
       "      <td>female</td>\n",
       "      <td>35.0</td>\n",
       "      <td>1</td>\n",
       "      <td>0</td>\n",
       "      <td>113803</td>\n",
       "      <td>53.1000</td>\n",
       "      <td>C123</td>\n",
       "      <td>S</td>\n",
       "    </tr>\n",
       "    <tr>\n",
       "      <th>4</th>\n",
       "      <td>5</td>\n",
       "      <td>0</td>\n",
       "      <td>3</td>\n",
       "      <td>Allen, Mr. William Henry</td>\n",
       "      <td>male</td>\n",
       "      <td>35.0</td>\n",
       "      <td>0</td>\n",
       "      <td>0</td>\n",
       "      <td>373450</td>\n",
       "      <td>8.0500</td>\n",
       "      <td>NaN</td>\n",
       "      <td>S</td>\n",
       "    </tr>\n",
       "  </tbody>\n",
       "</table>\n",
       "</div>"
      ],
      "text/plain": [
       "   PassengerId  Survived  Pclass  \\\n",
       "0            1         0       3   \n",
       "1            2         1       1   \n",
       "2            3         1       3   \n",
       "3            4         1       1   \n",
       "4            5         0       3   \n",
       "\n",
       "                                                Name     Sex   Age  SibSp  \\\n",
       "0                            Braund, Mr. Owen Harris    male  22.0      1   \n",
       "1  Cumings, Mrs. John Bradley (Florence Briggs Th...  female  38.0      1   \n",
       "2                             Heikkinen, Miss. Laina  female  26.0      0   \n",
       "3       Futrelle, Mrs. Jacques Heath (Lily May Peel)  female  35.0      1   \n",
       "4                           Allen, Mr. William Henry    male  35.0      0   \n",
       "\n",
       "   Parch            Ticket     Fare Cabin Embarked  \n",
       "0      0         A/5 21171   7.2500   NaN        S  \n",
       "1      0          PC 17599  71.2833   C85        C  \n",
       "2      0  STON/O2. 3101282   7.9250   NaN        S  \n",
       "3      0            113803  53.1000  C123        S  \n",
       "4      0            373450   8.0500   NaN        S  "
      ]
     },
     "execution_count": 2,
     "metadata": {},
     "output_type": "execute_result"
    }
   ],
   "source": [
    "#Exploring the data\n",
    "#Defining file paths\n",
    "train_file_path = '/kaggle/input/titanic/train.csv'\n",
    "test_file_path = '/kaggle/input/titanic/test.csv'\n",
    "gender_submission_file_path = '/kaggle/input/titanic/gender_submission.csv'\n",
    "\n",
    "#Loading the data\n",
    "train_data = pd.read_csv(train_file_path)\n",
    "test_data = pd.read_csv(test_file_path)\n",
    "gender_submission_data = pd.read_csv(gender_submission_file_path)\n",
    "\n",
    "#Checking the first few rows of the train data\n",
    "train_data.head()\n"
   ]
  },
  {
   "cell_type": "code",
   "execution_count": 3,
   "id": "ed28d5f2",
   "metadata": {
    "execution": {
     "iopub.execute_input": "2024-03-20T04:14:51.178488Z",
     "iopub.status.busy": "2024-03-20T04:14:51.177867Z",
     "iopub.status.idle": "2024-03-20T04:14:51.219402Z",
     "shell.execute_reply": "2024-03-20T04:14:51.218511Z"
    },
    "papermill": {
     "duration": 0.050726,
     "end_time": "2024-03-20T04:14:51.221508",
     "exception": false,
     "start_time": "2024-03-20T04:14:51.170782",
     "status": "completed"
    },
    "tags": []
   },
   "outputs": [
    {
     "name": "stdout",
     "output_type": "stream",
     "text": [
      "<class 'pandas.core.frame.DataFrame'>\n",
      "RangeIndex: 891 entries, 0 to 890\n",
      "Data columns (total 12 columns):\n",
      " #   Column       Non-Null Count  Dtype  \n",
      "---  ------       --------------  -----  \n",
      " 0   PassengerId  891 non-null    int64  \n",
      " 1   Survived     891 non-null    int64  \n",
      " 2   Pclass       891 non-null    int64  \n",
      " 3   Name         891 non-null    object \n",
      " 4   Sex          891 non-null    object \n",
      " 5   Age          714 non-null    float64\n",
      " 6   SibSp        891 non-null    int64  \n",
      " 7   Parch        891 non-null    int64  \n",
      " 8   Ticket       891 non-null    object \n",
      " 9   Fare         891 non-null    float64\n",
      " 10  Cabin        204 non-null    object \n",
      " 11  Embarked     889 non-null    object \n",
      "dtypes: float64(2), int64(5), object(5)\n",
      "memory usage: 83.7+ KB\n"
     ]
    },
    {
     "data": {
      "text/plain": [
       "<bound method NDFrame.describe of      PassengerId  Survived  Pclass  \\\n",
       "0              1         0       3   \n",
       "1              2         1       1   \n",
       "2              3         1       3   \n",
       "3              4         1       1   \n",
       "4              5         0       3   \n",
       "..           ...       ...     ...   \n",
       "886          887         0       2   \n",
       "887          888         1       1   \n",
       "888          889         0       3   \n",
       "889          890         1       1   \n",
       "890          891         0       3   \n",
       "\n",
       "                                                  Name     Sex   Age  SibSp  \\\n",
       "0                              Braund, Mr. Owen Harris    male  22.0      1   \n",
       "1    Cumings, Mrs. John Bradley (Florence Briggs Th...  female  38.0      1   \n",
       "2                               Heikkinen, Miss. Laina  female  26.0      0   \n",
       "3         Futrelle, Mrs. Jacques Heath (Lily May Peel)  female  35.0      1   \n",
       "4                             Allen, Mr. William Henry    male  35.0      0   \n",
       "..                                                 ...     ...   ...    ...   \n",
       "886                              Montvila, Rev. Juozas    male  27.0      0   \n",
       "887                       Graham, Miss. Margaret Edith  female  19.0      0   \n",
       "888           Johnston, Miss. Catherine Helen \"Carrie\"  female   NaN      1   \n",
       "889                              Behr, Mr. Karl Howell    male  26.0      0   \n",
       "890                                Dooley, Mr. Patrick    male  32.0      0   \n",
       "\n",
       "     Parch            Ticket     Fare Cabin Embarked  \n",
       "0        0         A/5 21171   7.2500   NaN        S  \n",
       "1        0          PC 17599  71.2833   C85        C  \n",
       "2        0  STON/O2. 3101282   7.9250   NaN        S  \n",
       "3        0            113803  53.1000  C123        S  \n",
       "4        0            373450   8.0500   NaN        S  \n",
       "..     ...               ...      ...   ...      ...  \n",
       "886      0            211536  13.0000   NaN        S  \n",
       "887      0            112053  30.0000   B42        S  \n",
       "888      2        W./C. 6607  23.4500   NaN        S  \n",
       "889      0            111369  30.0000  C148        C  \n",
       "890      0            370376   7.7500   NaN        Q  \n",
       "\n",
       "[891 rows x 12 columns]>"
      ]
     },
     "execution_count": 3,
     "metadata": {},
     "output_type": "execute_result"
    }
   ],
   "source": [
    "train_data.info()\n",
    "train_data.shape\n",
    "train_data.describe"
   ]
  },
  {
   "cell_type": "code",
   "execution_count": 4,
   "id": "1b2b5f6d",
   "metadata": {
    "execution": {
     "iopub.execute_input": "2024-03-20T04:14:51.236038Z",
     "iopub.status.busy": "2024-03-20T04:14:51.235507Z",
     "iopub.status.idle": "2024-03-20T04:14:51.244980Z",
     "shell.execute_reply": "2024-03-20T04:14:51.244003Z"
    },
    "papermill": {
     "duration": 0.018399,
     "end_time": "2024-03-20T04:14:51.246707",
     "exception": false,
     "start_time": "2024-03-20T04:14:51.228308",
     "status": "completed"
    },
    "tags": []
   },
   "outputs": [
    {
     "name": "stdout",
     "output_type": "stream",
     "text": [
      "<class 'pandas.core.frame.DataFrame'>\n",
      "RangeIndex: 418 entries, 0 to 417\n",
      "Data columns (total 11 columns):\n",
      " #   Column       Non-Null Count  Dtype  \n",
      "---  ------       --------------  -----  \n",
      " 0   PassengerId  418 non-null    int64  \n",
      " 1   Pclass       418 non-null    int64  \n",
      " 2   Name         418 non-null    object \n",
      " 3   Sex          418 non-null    object \n",
      " 4   Age          332 non-null    float64\n",
      " 5   SibSp        418 non-null    int64  \n",
      " 6   Parch        418 non-null    int64  \n",
      " 7   Ticket       418 non-null    object \n",
      " 8   Fare         417 non-null    float64\n",
      " 9   Cabin        91 non-null     object \n",
      " 10  Embarked     418 non-null    object \n",
      "dtypes: float64(2), int64(4), object(5)\n",
      "memory usage: 36.0+ KB\n"
     ]
    }
   ],
   "source": [
    "test_data.info()"
   ]
  },
  {
   "cell_type": "code",
   "execution_count": 5,
   "id": "376dc2de",
   "metadata": {
    "execution": {
     "iopub.execute_input": "2024-03-20T04:14:51.261009Z",
     "iopub.status.busy": "2024-03-20T04:14:51.260630Z",
     "iopub.status.idle": "2024-03-20T04:14:51.267357Z",
     "shell.execute_reply": "2024-03-20T04:14:51.265903Z"
    },
    "papermill": {
     "duration": 0.017456,
     "end_time": "2024-03-20T04:14:51.270492",
     "exception": false,
     "start_time": "2024-03-20T04:14:51.253036",
     "status": "completed"
    },
    "tags": []
   },
   "outputs": [
    {
     "name": "stdout",
     "output_type": "stream",
     "text": [
      "687\n"
     ]
    }
   ],
   "source": [
    "#Identifying Missing Values \n",
    "num_nan = train_data[\"Cabin\"].isna().sum() #By the looks, Cabin seems to have a lot of missing values \n",
    "print(num_nan)"
   ]
  },
  {
   "cell_type": "code",
   "execution_count": 6,
   "id": "5e2a91e4",
   "metadata": {
    "execution": {
     "iopub.execute_input": "2024-03-20T04:14:51.285252Z",
     "iopub.status.busy": "2024-03-20T04:14:51.284902Z",
     "iopub.status.idle": "2024-03-20T04:14:51.302640Z",
     "shell.execute_reply": "2024-03-20T04:14:51.301538Z"
    },
    "papermill": {
     "duration": 0.028474,
     "end_time": "2024-03-20T04:14:51.305538",
     "exception": false,
     "start_time": "2024-03-20T04:14:51.277064",
     "status": "completed"
    },
    "tags": []
   },
   "outputs": [],
   "source": [
    "#Dropping the 'Cabin', 'Passengerid' & 'Ticket' column\n",
    "train_data.drop(labels=\"Cabin\", axis=1, inplace=True)\n",
    "train_data.drop(labels=\"PassengerId\", axis=1, inplace=True)\n",
    "train_data.drop(labels=\"Ticket\", axis=1, inplace=True)\n",
    "test_data.drop(labels=\"Cabin\", axis=1, inplace=True)\n",
    "test_data.drop(labels=\"PassengerId\", axis=1, inplace=True)\n",
    "test_data.drop(labels=\"Ticket\", axis=1, inplace=True)\n",
    "\n",
    "#Storing the values of mean and median from training data to fill in for test data\n",
    "median_fare = train_data[\"Fare\"].median()\n",
    "mean_age = train_data[\"Age\"].mean()\n",
    "\n",
    "#Imputing the 'Age' column's missing values with mean \n",
    "if \"Age\" in train_data:\n",
    "    train_data[\"Age\"] = train_data[\"Age\"].fillna(mean_age)\n",
    "    \n",
    "#Imputing the 'Fare' column's missing values with median fare\n",
    "if \"Fare\" in train_data:\n",
    "    train_data[\"Fare\"] = train_data[\"Fare\"].fillna(median_fare)\n",
    "\n",
    "#Doing the same for test set\n",
    "test_data[\"Age\"] = test_data[\"Age\"].fillna(mean_age) \n",
    "test_data[\"Fare\"] = test_data[\"Fare\"].fillna(median_fare)\n"
   ]
  },
  {
   "cell_type": "code",
   "execution_count": 7,
   "id": "d1958522",
   "metadata": {
    "execution": {
     "iopub.execute_input": "2024-03-20T04:14:51.320050Z",
     "iopub.status.busy": "2024-03-20T04:14:51.319733Z",
     "iopub.status.idle": "2024-03-20T04:14:51.324854Z",
     "shell.execute_reply": "2024-03-20T04:14:51.323711Z"
    },
    "papermill": {
     "duration": 0.01473,
     "end_time": "2024-03-20T04:14:51.326765",
     "exception": false,
     "start_time": "2024-03-20T04:14:51.312035",
     "status": "completed"
    },
    "tags": []
   },
   "outputs": [
    {
     "name": "stdout",
     "output_type": "stream",
     "text": [
      "2\n"
     ]
    }
   ],
   "source": [
    "#Checking how many missing values there are\n",
    "print(train_data['Embarked'].isnull().sum())\n"
   ]
  },
  {
   "cell_type": "code",
   "execution_count": 8,
   "id": "a4a88716",
   "metadata": {
    "execution": {
     "iopub.execute_input": "2024-03-20T04:14:51.342212Z",
     "iopub.status.busy": "2024-03-20T04:14:51.341840Z",
     "iopub.status.idle": "2024-03-20T04:14:51.358830Z",
     "shell.execute_reply": "2024-03-20T04:14:51.357184Z"
    },
    "papermill": {
     "duration": 0.027314,
     "end_time": "2024-03-20T04:14:51.361267",
     "exception": false,
     "start_time": "2024-03-20T04:14:51.333953",
     "status": "completed"
    },
    "tags": []
   },
   "outputs": [],
   "source": [
    "#Combining/Creating new Title Features \n",
    "# Creating a function to grab titles \n",
    "def get_title(name):\n",
    "    if '.' in name:\n",
    "        return name.split(',')[1].split('.')[0].strip()\n",
    "    return \"\"\n",
    "\n",
    "#Applying get_title to the 'Name' column + create a new 'Title' column\n",
    "train_data['Title'] = train_data['Name'].apply(get_title)\n",
    "test_data['Title'] = test_data['Name'].apply(get_title)\n",
    "\n",
    "#Reducing dimensions by grouping less common titles into an 'Other' category\n",
    "title_counts = train_data['Title'].value_counts()\n",
    "less_common_titles = title_counts[title_counts < 10].index  # Titles with less than 10 occurrences\n",
    "train_data['Title'] = train_data['Title'].replace(less_common_titles, 'Other')\n",
    "test_data['Title'] = test_data['Title'].replace(less_common_titles, 'Other')\n",
    "\n",
    "#Dropping the 'Name' column now as not seeing it necessary \n",
    "train_data.drop(labels=\"Name\", axis=1, inplace=True)\n",
    "test_data.drop(labels=\"Name\", axis=1, inplace=True)"
   ]
  },
  {
   "cell_type": "code",
   "execution_count": 9,
   "id": "f70bccf0",
   "metadata": {
    "execution": {
     "iopub.execute_input": "2024-03-20T04:14:51.377455Z",
     "iopub.status.busy": "2024-03-20T04:14:51.377080Z",
     "iopub.status.idle": "2024-03-20T04:14:51.384980Z",
     "shell.execute_reply": "2024-03-20T04:14:51.383615Z"
    },
    "papermill": {
     "duration": 0.018239,
     "end_time": "2024-03-20T04:14:51.387019",
     "exception": false,
     "start_time": "2024-03-20T04:14:51.368780",
     "status": "completed"
    },
    "tags": []
   },
   "outputs": [
    {
     "name": "stdout",
     "output_type": "stream",
     "text": [
      "number of dr: 0, number of master: 40, number of rev: 0, number of miss: 182, number of mr: 642, number of msr: 0\n"
     ]
    }
   ],
   "source": [
    "#Checking the distribution of titles \n",
    "num_of_dr = 0\n",
    "num_of_master = 0\n",
    "num_of_rev = 0\n",
    "num_of_miss = 0\n",
    "num_of_mr = 0\n",
    "num_of_msr = 0\n",
    "\n",
    "for i in train_data[\"Title\"]:\n",
    "    if 'Dr' in i:\n",
    "        num_of_dr += 1\n",
    "    elif 'Master' in i:\n",
    "        num_of_master += 1\n",
    "    elif 'Rev' in i:\n",
    "        num_of_rev += 1\n",
    "    elif 'Miss' in i:\n",
    "        num_of_miss += 1\n",
    "    elif 'Mr' in i:\n",
    "        num_of_mr += 1\n",
    "    elif 'Mrs' in i:\n",
    "        num_of_msr += 1\n",
    "print(f'number of dr: {num_of_dr}, number of master: {num_of_master}, number of rev: {num_of_rev}, number of miss: {num_of_miss}, number of mr: {num_of_mr}, number of msr: {num_of_msr}')\n"
   ]
  },
  {
   "cell_type": "code",
   "execution_count": 10,
   "id": "2d45f7b4",
   "metadata": {
    "execution": {
     "iopub.execute_input": "2024-03-20T04:14:51.401863Z",
     "iopub.status.busy": "2024-03-20T04:14:51.401486Z",
     "iopub.status.idle": "2024-03-20T04:14:51.409821Z",
     "shell.execute_reply": "2024-03-20T04:14:51.408033Z"
    },
    "papermill": {
     "duration": 0.018967,
     "end_time": "2024-03-20T04:14:51.412687",
     "exception": false,
     "start_time": "2024-03-20T04:14:51.393720",
     "status": "completed"
    },
    "tags": []
   },
   "outputs": [],
   "source": [
    "#Combining 'Title' and 'Pclass' into 1 feature Title_Pclass\n",
    "train_data['Title_Pclass'] = train_data['Title'] + \"_\" + train_data['Pclass'].astype(str)\n",
    "\n",
    "#Doing the same for the test_data\n",
    "test_data['Title_Pclass'] = test_data['Title'] + \"_\" + test_data['Pclass'].astype(str)\n"
   ]
  },
  {
   "cell_type": "code",
   "execution_count": 11,
   "id": "557d1238",
   "metadata": {
    "execution": {
     "iopub.execute_input": "2024-03-20T04:14:51.427596Z",
     "iopub.status.busy": "2024-03-20T04:14:51.427261Z",
     "iopub.status.idle": "2024-03-20T04:14:51.434680Z",
     "shell.execute_reply": "2024-03-20T04:14:51.433175Z"
    },
    "papermill": {
     "duration": 0.017558,
     "end_time": "2024-03-20T04:14:51.437170",
     "exception": false,
     "start_time": "2024-03-20T04:14:51.419612",
     "status": "completed"
    },
    "tags": []
   },
   "outputs": [],
   "source": [
    "#Combining 'Parch' and 'SibSp' to create 1 feature; Fam_size\n",
    "train_data['Fam_size'] = train_data['Parch'] + train_data['SibSp'] + 1 #+1 includes passenger themsef\n",
    "\n",
    "#Doing the same for the test dataset\n",
    "test_data['Fam_size'] = test_data['Parch'] + test_data['SibSp'] + 1\n"
   ]
  },
  {
   "cell_type": "markdown",
   "id": "08a1dcd9",
   "metadata": {
    "papermill": {
     "duration": 0.005881,
     "end_time": "2024-03-20T04:14:51.450279",
     "exception": false,
     "start_time": "2024-03-20T04:14:51.444398",
     "status": "completed"
    },
    "tags": []
   },
   "source": [
    "vv Tweak this vv"
   ]
  },
  {
   "cell_type": "code",
   "execution_count": 12,
   "id": "74589dc5",
   "metadata": {
    "execution": {
     "iopub.execute_input": "2024-03-20T04:14:51.464343Z",
     "iopub.status.busy": "2024-03-20T04:14:51.463989Z",
     "iopub.status.idle": "2024-03-20T04:14:51.479900Z",
     "shell.execute_reply": "2024-03-20T04:14:51.478535Z"
    },
    "papermill": {
     "duration": 0.025313,
     "end_time": "2024-03-20T04:14:51.481946",
     "exception": false,
     "start_time": "2024-03-20T04:14:51.456633",
     "status": "completed"
    },
    "tags": []
   },
   "outputs": [
    {
     "name": "stdout",
     "output_type": "stream",
     "text": [
      "     Survived  Pclass     Sex        Age  SibSp  Parch     Fare Embarked  \\\n",
      "0           0       3    male  22.000000      1      0   7.2500        S   \n",
      "1           1       1  female  38.000000      1      0  71.2833        C   \n",
      "2           1       3  female  26.000000      0      0   7.9250        S   \n",
      "3           1       1  female  35.000000      1      0  53.1000        S   \n",
      "4           0       3    male  35.000000      0      0   8.0500        S   \n",
      "..        ...     ...     ...        ...    ...    ...      ...      ...   \n",
      "886         0       2    male  27.000000      0      0  13.0000        S   \n",
      "887         1       1  female  19.000000      0      0  30.0000        S   \n",
      "888         0       3  female  29.699118      1      2  23.4500        S   \n",
      "889         1       1    male  26.000000      0      0  30.0000        C   \n",
      "890         0       3    male  32.000000      0      0   7.7500        Q   \n",
      "\n",
      "     Title Title_Pclass  Fam_size Age_Category  \n",
      "0       Mr         Mr_3         2        adult  \n",
      "1      Mrs        Mrs_1         2        adult  \n",
      "2     Miss       Miss_3         1        adult  \n",
      "3      Mrs        Mrs_1         2        adult  \n",
      "4       Mr         Mr_3         1        adult  \n",
      "..     ...          ...       ...          ...  \n",
      "886  Other      Other_2         1        adult  \n",
      "887   Miss       Miss_1         1         teen  \n",
      "888   Miss       Miss_3         4        adult  \n",
      "889     Mr         Mr_1         1        adult  \n",
      "890     Mr         Mr_3         1        adult  \n",
      "\n",
      "[891 rows x 12 columns]\n"
     ]
    }
   ],
   "source": [
    "#Defining age categories\n",
    "age_categories = {\n",
    "    'infant': (0, 1),\n",
    "    'toddler': (2, 4),\n",
    "    'child': (5, 12),\n",
    "    'teen': (13, 19),\n",
    "    'adult': (20, 39),\n",
    "    'middle_age_adult': (40, 59),\n",
    "    'senior_adult': (60, 110)  # Assuming 110 as an upper limit for demonstration\n",
    "}\n",
    "\n",
    "#Function to categorize age\n",
    "def categorize_age(age):\n",
    "    for category, (start, end) in age_categories.items():\n",
    "        if start <= age <= end:\n",
    "            return category\n",
    "    return 'unknown'  # For ages outside defined ranges\n",
    "\n",
    "#Applying categorization\n",
    "train_data['Age_Category'] = train_data['Age'].apply(categorize_age)\n",
    "test_data['Age_Category'] = test_data['Age'].apply(categorize_age)\n",
    "\n",
    "print(train_data)"
   ]
  },
  {
   "cell_type": "code",
   "execution_count": 13,
   "id": "d953670a",
   "metadata": {
    "execution": {
     "iopub.execute_input": "2024-03-20T04:14:51.496918Z",
     "iopub.status.busy": "2024-03-20T04:14:51.496559Z",
     "iopub.status.idle": "2024-03-20T04:14:51.504617Z",
     "shell.execute_reply": "2024-03-20T04:14:51.503602Z"
    },
    "papermill": {
     "duration": 0.017868,
     "end_time": "2024-03-20T04:14:51.506461",
     "exception": false,
     "start_time": "2024-03-20T04:14:51.488593",
     "status": "completed"
    },
    "tags": []
   },
   "outputs": [
    {
     "name": "stdout",
     "output_type": "stream",
     "text": [
      "count    891.000000\n",
      "mean      32.204208\n",
      "std       49.693429\n",
      "min        0.000000\n",
      "25%        7.910400\n",
      "50%       14.454200\n",
      "75%       31.000000\n",
      "max      512.329200\n",
      "Name: Fare, dtype: float64\n"
     ]
    }
   ],
   "source": [
    "fare_summary = train_data['Fare'].describe()\n",
    "print(fare_summary)"
   ]
  },
  {
   "cell_type": "code",
   "execution_count": 14,
   "id": "d76664b4",
   "metadata": {
    "execution": {
     "iopub.execute_input": "2024-03-20T04:14:51.521251Z",
     "iopub.status.busy": "2024-03-20T04:14:51.520880Z",
     "iopub.status.idle": "2024-03-20T04:14:51.867973Z",
     "shell.execute_reply": "2024-03-20T04:14:51.866687Z"
    },
    "papermill": {
     "duration": 0.357283,
     "end_time": "2024-03-20T04:14:51.870481",
     "exception": false,
     "start_time": "2024-03-20T04:14:51.513198",
     "status": "completed"
    },
    "tags": []
   },
   "outputs": [
    {
     "name": "stderr",
     "output_type": "stream",
     "text": [
      "/opt/conda/lib/python3.10/site-packages/seaborn/_oldcore.py:1119: FutureWarning: use_inf_as_na option is deprecated and will be removed in a future version. Convert inf values to NaN before operating instead.\n",
      "  with pd.option_context('mode.use_inf_as_na', True):\n"
     ]
    },
    {
     "data": {
      "image/png": "[encoded data removed]",
      "text/plain": [
       "<Figure size 1000x600 with 1 Axes>"
      ]
     },
     "metadata": {},
     "output_type": "display_data"
    },
    {
     "name": "stdout",
     "output_type": "stream",
     "text": [
      "Fare\n",
      "0.0000      15\n",
      "4.0125       1\n",
      "5.0000       1\n",
      "6.2375       1\n",
      "6.4375       1\n",
      "            ..\n",
      "227.5250     4\n",
      "247.5208     2\n",
      "262.3750     2\n",
      "263.0000     4\n",
      "512.3292     3\n",
      "Name: count, Length: 248, dtype: int64\n"
     ]
    }
   ],
   "source": [
    "#Looking at distribution for 'fare'\n",
    "plt.figure(figsize=(10, 6))\n",
    "sns.histplot(train_data['Fare'], kde=True, bins=40)\n",
    "plt.title('Distribution of Fare')\n",
    "plt.xlabel('Fare')\n",
    "plt.ylabel('Frequency')\n",
    "plt.show()\n",
    "\n",
    "\n",
    "fare_counts = train_data['Fare'].value_counts().sort_index()\n",
    "print(fare_counts)\n"
   ]
  },
  {
   "cell_type": "code",
   "execution_count": 15,
   "id": "a87929f7",
   "metadata": {
    "execution": {
     "iopub.execute_input": "2024-03-20T04:14:51.886207Z",
     "iopub.status.busy": "2024-03-20T04:14:51.885818Z",
     "iopub.status.idle": "2024-03-20T04:14:51.900974Z",
     "shell.execute_reply": "2024-03-20T04:14:51.899681Z"
    },
    "papermill": {
     "duration": 0.025563,
     "end_time": "2024-03-20T04:14:51.903230",
     "exception": false,
     "start_time": "2024-03-20T04:14:51.877667",
     "status": "completed"
    },
    "tags": []
   },
   "outputs": [],
   "source": [
    "#quantile-binning for 'fare'\n",
    "train_data['FareGroup'] = pd.qcut(train_data['Fare'], q=4, labels=['Low', 'Medium', 'High', 'Very High'])\n",
    "test_data['FareGroup'] = pd.qcut(train_data['Fare'], q=4, labels=['Low', 'Medium', 'High', 'Very High'])"
   ]
  },
  {
   "cell_type": "code",
   "execution_count": 16,
   "id": "1d2025e7",
   "metadata": {
    "execution": {
     "iopub.execute_input": "2024-03-20T04:14:51.919945Z",
     "iopub.status.busy": "2024-03-20T04:14:51.919626Z",
     "iopub.status.idle": "2024-03-20T04:14:51.940623Z",
     "shell.execute_reply": "2024-03-20T04:14:51.939449Z"
    },
    "papermill": {
     "duration": 0.032711,
     "end_time": "2024-03-20T04:14:51.943191",
     "exception": false,
     "start_time": "2024-03-20T04:14:51.910480",
     "status": "completed"
    },
    "tags": []
   },
   "outputs": [],
   "source": [
    "#One hot encoding \n",
    "categorical_features = ['Sex', 'Embarked', 'Title', 'Title_Pclass', 'Age_Category', 'FareGroup']\n",
    "train_data = pd.get_dummies(train_data, columns=categorical_features, drop_first=True)\n",
    "test_data = pd.get_dummies(test_data, columns=categorical_features, drop_first=True)\n",
    "\n",
    "#Creating X and Y\n",
    "X = train_data.drop(['Survived'], axis=1) \n",
    "y = train_data['Survived']\n",
    "\n",
    "# Exclude the 'Survived' column or any other columns not present in test_data\n",
    "columns_for_test = [col for col in train_data.columns if col != 'Survived']\n",
    "\n",
    "#No Y_test needed | Creating 'X_test'\n",
    "X_test = test_data.reindex(columns=columns_for_test, fill_value=0)"
   ]
  },
  {
   "cell_type": "code",
   "execution_count": 17,
   "id": "a1cfe660",
   "metadata": {
    "execution": {
     "iopub.execute_input": "2024-03-20T04:14:51.959392Z",
     "iopub.status.busy": "2024-03-20T04:14:51.959017Z",
     "iopub.status.idle": "2024-03-20T04:14:51.999159Z",
     "shell.execute_reply": "2024-03-20T04:14:51.998138Z"
    },
    "papermill": {
     "duration": 0.050842,
     "end_time": "2024-03-20T04:14:52.001487",
     "exception": false,
     "start_time": "2024-03-20T04:14:51.950645",
     "status": "completed"
    },
    "tags": []
   },
   "outputs": [
    {
     "data": {
      "text/html": [
       "<style>#sk-container-id-1 {color: black;background-color: white;}#sk-container-id-1 pre{padding: 0;}#sk-container-id-1 div.sk-toggleable {background-color: white;}#sk-container-id-1 label.sk-toggleable__label {cursor: pointer;display: block;width: 100%;margin-bottom: 0;padding: 0.3em;box-sizing: border-box;text-align: center;}#sk-container-id-1 label.sk-toggleable__label-arrow:before {content: \"▸\";float: left;margin-right: 0.25em;color: #696969;}#sk-container-id-1 label.sk-toggleable__label-arrow:hover:before {color: black;}#sk-container-id-1 div.sk-estimator:hover label.sk-toggleable__label-arrow:before {color: black;}#sk-container-id-1 div.sk-toggleable__content {max-height: 0;max-width: 0;overflow: hidden;text-align: left;background-color: #f0f8ff;}#sk-container-id-1 div.sk-toggleable__content pre {margin: 0.2em;color: black;border-radius: 0.25em;background-color: #f0f8ff;}#sk-container-id-1 input.sk-toggleable__control:checked~div.sk-toggleable__content {max-height: 200px;max-width: 100%;overflow: auto;}#sk-container-id-1 input.sk-toggleable__control:checked~label.sk-toggleable__label-arrow:before {content: \"▾\";}#sk-container-id-1 div.sk-estimator input.sk-toggleable__control:checked~label.sk-toggleable__label {background-color: #d4ebff;}#sk-container-id-1 div.sk-label input.sk-toggleable__control:checked~label.sk-toggleable__label {background-color: #d4ebff;}#sk-container-id-1 input.sk-hidden--visually {border: 0;clip: rect(1px 1px 1px 1px);clip: rect(1px, 1px, 1px, 1px);height: 1px;margin: -1px;overflow: hidden;padding: 0;position: absolute;width: 1px;}#sk-container-id-1 div.sk-estimator {font-family: monospace;background-color: #f0f8ff;border: 1px dotted black;border-radius: 0.25em;box-sizing: border-box;margin-bottom: 0.5em;}#sk-container-id-1 div.sk-estimator:hover {background-color: #d4ebff;}#sk-container-id-1 div.sk-parallel-item::after {content: \"\";width: 100%;border-bottom: 1px solid gray;flex-grow: 1;}#sk-container-id-1 div.sk-label:hover label.sk-toggleable__label {background-color: #d4ebff;}#sk-container-id-1 div.sk-serial::before {content: \"\";position: absolute;border-left: 1px solid gray;box-sizing: border-box;top: 0;bottom: 0;left: 50%;z-index: 0;}#sk-container-id-1 div.sk-serial {display: flex;flex-direction: column;align-items: center;background-color: white;padding-right: 0.2em;padding-left: 0.2em;position: relative;}#sk-container-id-1 div.sk-item {position: relative;z-index: 1;}#sk-container-id-1 div.sk-parallel {display: flex;align-items: stretch;justify-content: center;background-color: white;position: relative;}#sk-container-id-1 div.sk-item::before, #sk-container-id-1 div.sk-parallel-item::before {content: \"\";position: absolute;border-left: 1px solid gray;box-sizing: border-box;top: 0;bottom: 0;left: 50%;z-index: -1;}#sk-container-id-1 div.sk-parallel-item {display: flex;flex-direction: column;z-index: 1;position: relative;background-color: white;}#sk-container-id-1 div.sk-parallel-item:first-child::after {align-self: flex-end;width: 50%;}#sk-container-id-1 div.sk-parallel-item:last-child::after {align-self: flex-start;width: 50%;}#sk-container-id-1 div.sk-parallel-item:only-child::after {width: 0;}#sk-container-id-1 div.sk-dashed-wrapped {border: 1px dashed gray;margin: 0 0.4em 0.5em 0.4em;box-sizing: border-box;padding-bottom: 0.4em;background-color: white;}#sk-container-id-1 div.sk-label label {font-family: monospace;font-weight: bold;display: inline-block;line-height: 1.2em;}#sk-container-id-1 div.sk-label-container {text-align: center;}#sk-container-id-1 div.sk-container {/* jupyter's `normalize.less` sets `[hidden] { display: none; }` but bootstrap.min.css set `[hidden] { display: none !important; }` so we also need the `!important` here to be able to override the default hidden behavior on the sphinx rendered scikit-learn.org. See: https://github.com/scikit-learn/scikit-learn/issues/21755 */display: inline-block !important;position: relative;}#sk-container-id-1 div.sk-text-repr-fallback {display: none;}</style><div id=\"sk-container-id-1\" class=\"sk-top-container\"><div class=\"sk-text-repr-fallback\"><pre>Pipeline(steps=[(&#x27;scaler&#x27;, StandardScaler()),\n",
       "                (&#x27;model&#x27;, LogisticRegression(max_iter=4000, random_state=50))])</pre><b>In a Jupyter environment, please rerun this cell to show the HTML representation or trust the notebook. <br />On GitHub, the HTML representation is unable to render, please try loading this page with nbviewer.org.</b></div><div class=\"sk-container\" hidden><div class=\"sk-item sk-dashed-wrapped\"><div class=\"sk-label-container\"><div class=\"sk-label sk-toggleable\"><input class=\"sk-toggleable__control sk-hidden--visually\" id=\"sk-estimator-id-1\" type=\"checkbox\" ><label for=\"sk-estimator-id-1\" class=\"sk-toggleable__label sk-toggleable__label-arrow\">Pipeline</label><div class=\"sk-toggleable__content\"><pre>Pipeline(steps=[(&#x27;scaler&#x27;, StandardScaler()),\n",
       "                (&#x27;model&#x27;, LogisticRegression(max_iter=4000, random_state=50))])</pre></div></div></div><div class=\"sk-serial\"><div class=\"sk-item\"><div class=\"sk-estimator sk-toggleable\"><input class=\"sk-toggleable__control sk-hidden--visually\" id=\"sk-estimator-id-2\" type=\"checkbox\" ><label for=\"sk-estimator-id-2\" class=\"sk-toggleable__label sk-toggleable__label-arrow\">StandardScaler</label><div class=\"sk-toggleable__content\"><pre>StandardScaler()</pre></div></div></div><div class=\"sk-item\"><div class=\"sk-estimator sk-toggleable\"><input class=\"sk-toggleable__control sk-hidden--visually\" id=\"sk-estimator-id-3\" type=\"checkbox\" ><label for=\"sk-estimator-id-3\" class=\"sk-toggleable__label sk-toggleable__label-arrow\">LogisticRegression</label><div class=\"sk-toggleable__content\"><pre>LogisticRegression(max_iter=4000, random_state=50)</pre></div></div></div></div></div></div></div>"
      ],
      "text/plain": [
       "Pipeline(steps=[('scaler', StandardScaler()),\n",
       "                ('model', LogisticRegression(max_iter=4000, random_state=50))])"
      ]
     },
     "execution_count": 17,
     "metadata": {},
     "output_type": "execute_result"
    }
   ],
   "source": [
    "#Prepping data\n",
    "X_train = train_data.drop(['Survived'], axis=1) \n",
    "y_train = train_data['Survived']\n",
    "\n",
    "#Splitting the training data for validation\n",
    "X_train, X_val, y_train, y_val = train_test_split(X, y, test_size=0.2, random_state=42)\n",
    "\n",
    "pipeline = Pipeline([\n",
    "    ('scaler', StandardScaler()),\n",
    "    ('model', LogisticRegression(max_iter=4000,random_state=50))\n",
    "])\n",
    "\n",
    "#Fitting pipeline to training data \n",
    "pipeline.fit(X_train,y_train)\n"
   ]
  },
  {
   "cell_type": "code",
   "execution_count": 18,
   "id": "bd8d6f30",
   "metadata": {
    "execution": {
     "iopub.execute_input": "2024-03-20T04:14:52.023149Z",
     "iopub.status.busy": "2024-03-20T04:14:52.021923Z",
     "iopub.status.idle": "2024-03-20T04:14:52.040256Z",
     "shell.execute_reply": "2024-03-20T04:14:52.039520Z"
    },
    "papermill": {
     "duration": 0.031477,
     "end_time": "2024-03-20T04:14:52.042699",
     "exception": false,
     "start_time": "2024-03-20T04:14:52.011222",
     "status": "completed"
    },
    "tags": []
   },
   "outputs": [
    {
     "name": "stdout",
     "output_type": "stream",
     "text": [
      "Validation Accuracy: 0.7988826815642458\n",
      "              precision    recall  f1-score   support\n",
      "\n",
      "           0       0.79      0.89      0.84       105\n",
      "           1       0.81      0.68      0.74        74\n",
      "\n",
      "    accuracy                           0.80       179\n",
      "   macro avg       0.80      0.78      0.79       179\n",
      "weighted avg       0.80      0.80      0.80       179\n",
      "\n",
      "[[93 12]\n",
      " [24 50]]\n"
     ]
    }
   ],
   "source": [
    "#Predicting on the validation set\n",
    "y_pred = pipeline.predict(X_val)\n",
    "\n",
    "#Calculating the accuracy\n",
    "val_accuracy = accuracy_score(y_val, y_pred)\n",
    "print(f'Validation Accuracy: {val_accuracy}')\n",
    "\n",
    "#Printing the classification report\n",
    "print(classification_report(y_val, y_pred))\n",
    "\n",
    "#Printing the confusion matrix\n",
    "print(confusion_matrix(y_val, y_pred))\n"
   ]
  },
  {
   "cell_type": "code",
   "execution_count": 19,
   "id": "7288471f",
   "metadata": {
    "execution": {
     "iopub.execute_input": "2024-03-20T04:14:52.064860Z",
     "iopub.status.busy": "2024-03-20T04:14:52.064463Z",
     "iopub.status.idle": "2024-03-20T04:14:52.073876Z",
     "shell.execute_reply": "2024-03-20T04:14:52.073169Z"
    },
    "papermill": {
     "duration": 0.022553,
     "end_time": "2024-03-20T04:14:52.075803",
     "exception": false,
     "start_time": "2024-03-20T04:14:52.053250",
     "status": "completed"
    },
    "tags": []
   },
   "outputs": [
    {
     "name": "stdout",
     "output_type": "stream",
     "text": [
      "                               importance\n",
      "Title_Pclass_Master_2            0.471467\n",
      "Age_Category_infant              0.328994\n",
      "Title_Pclass_Mrs_2               0.286230\n",
      "Title_Pclass_Miss_2              0.262432\n",
      "FareGroup_Very High              0.238038\n",
      "Fare                             0.185948\n",
      "FareGroup_High                   0.160613\n",
      "Age_Category_toddler             0.154872\n",
      "Title_Pclass_Master_3            0.136032\n",
      "Age                              0.103975\n",
      "FareGroup_Medium                 0.088714\n",
      "Age_Category_child               0.077491\n",
      "Title_Mrs                        0.041280\n",
      "Title_Pclass_Mrs_1               0.017067\n",
      "Age_Category_teen               -0.001079\n",
      "Embarked_Q                      -0.009924\n",
      "Title_Pclass_Other_1            -0.030905\n",
      "Title_Pclass_Miss_1             -0.045868\n",
      "Age_Category_senior_adult       -0.070964\n",
      "Title_Other                     -0.120545\n",
      "Title_Pclass_Mr_3               -0.150360\n",
      "Title_Pclass_Other_2            -0.163217\n",
      "Parch                           -0.203268\n",
      "Embarked_S                      -0.225613\n",
      "Title_Pclass_Mrs_3              -0.227587\n",
      "Title_Pclass_Mr_1               -0.234939\n",
      "Title_Miss                      -0.238772\n",
      "Age_Category_middle_age_adult   -0.299048\n",
      "Fam_size                        -0.359556\n",
      "SibSp                           -0.377457\n",
      "Title_Pclass_Mr_2               -0.399369\n",
      "Title_Pclass_Miss_3             -0.429242\n",
      "Pclass                          -0.543023\n",
      "Title_Mr                        -0.551552\n",
      "Sex_male                        -1.177815\n"
     ]
    }
   ],
   "source": [
    "#Accessing the logistic regression model's coefficients\n",
    "logistic_regression_model = pipeline.named_steps['model']  # 'model' is the name we gave the logistic regression step\n",
    "coefficients = logistic_regression_model.coef_[0]\n",
    "\n",
    "#Creating a DataFrame for feature importance\n",
    "feature_importance = pd.DataFrame(coefficients, index=X_train.columns, columns=['importance']).sort_values('importance', ascending=False)\n",
    "\n",
    "print(feature_importance)"
   ]
  },
  {
   "cell_type": "code",
   "execution_count": 20,
   "id": "7c2c3ed6",
   "metadata": {
    "execution": {
     "iopub.execute_input": "2024-03-20T04:14:52.098490Z",
     "iopub.status.busy": "2024-03-20T04:14:52.097870Z",
     "iopub.status.idle": "2024-03-20T04:14:52.129079Z",
     "shell.execute_reply": "2024-03-20T04:14:52.128333Z"
    },
    "papermill": {
     "duration": 0.044771,
     "end_time": "2024-03-20T04:14:52.131739",
     "exception": false,
     "start_time": "2024-03-20T04:14:52.086968",
     "status": "completed"
    },
    "tags": []
   },
   "outputs": [
    {
     "data": {
      "text/html": [
       "<style>#sk-container-id-2 {color: black;background-color: white;}#sk-container-id-2 pre{padding: 0;}#sk-container-id-2 div.sk-toggleable {background-color: white;}#sk-container-id-2 label.sk-toggleable__label {cursor: pointer;display: block;width: 100%;margin-bottom: 0;padding: 0.3em;box-sizing: border-box;text-align: center;}#sk-container-id-2 label.sk-toggleable__label-arrow:before {content: \"▸\";float: left;margin-right: 0.25em;color: #696969;}#sk-container-id-2 label.sk-toggleable__label-arrow:hover:before {color: black;}#sk-container-id-2 div.sk-estimator:hover label.sk-toggleable__label-arrow:before {color: black;}#sk-container-id-2 div.sk-toggleable__content {max-height: 0;max-width: 0;overflow: hidden;text-align: left;background-color: #f0f8ff;}#sk-container-id-2 div.sk-toggleable__content pre {margin: 0.2em;color: black;border-radius: 0.25em;background-color: #f0f8ff;}#sk-container-id-2 input.sk-toggleable__control:checked~div.sk-toggleable__content {max-height: 200px;max-width: 100%;overflow: auto;}#sk-container-id-2 input.sk-toggleable__control:checked~label.sk-toggleable__label-arrow:before {content: \"▾\";}#sk-container-id-2 div.sk-estimator input.sk-toggleable__control:checked~label.sk-toggleable__label {background-color: #d4ebff;}#sk-container-id-2 div.sk-label input.sk-toggleable__control:checked~label.sk-toggleable__label {background-color: #d4ebff;}#sk-container-id-2 input.sk-hidden--visually {border: 0;clip: rect(1px 1px 1px 1px);clip: rect(1px, 1px, 1px, 1px);height: 1px;margin: -1px;overflow: hidden;padding: 0;position: absolute;width: 1px;}#sk-container-id-2 div.sk-estimator {font-family: monospace;background-color: #f0f8ff;border: 1px dotted black;border-radius: 0.25em;box-sizing: border-box;margin-bottom: 0.5em;}#sk-container-id-2 div.sk-estimator:hover {background-color: #d4ebff;}#sk-container-id-2 div.sk-parallel-item::after {content: \"\";width: 100%;border-bottom: 1px solid gray;flex-grow: 1;}#sk-container-id-2 div.sk-label:hover label.sk-toggleable__label {background-color: #d4ebff;}#sk-container-id-2 div.sk-serial::before {content: \"\";position: absolute;border-left: 1px solid gray;box-sizing: border-box;top: 0;bottom: 0;left: 50%;z-index: 0;}#sk-container-id-2 div.sk-serial {display: flex;flex-direction: column;align-items: center;background-color: white;padding-right: 0.2em;padding-left: 0.2em;position: relative;}#sk-container-id-2 div.sk-item {position: relative;z-index: 1;}#sk-container-id-2 div.sk-parallel {display: flex;align-items: stretch;justify-content: center;background-color: white;position: relative;}#sk-container-id-2 div.sk-item::before, #sk-container-id-2 div.sk-parallel-item::before {content: \"\";position: absolute;border-left: 1px solid gray;box-sizing: border-box;top: 0;bottom: 0;left: 50%;z-index: -1;}#sk-container-id-2 div.sk-parallel-item {display: flex;flex-direction: column;z-index: 1;position: relative;background-color: white;}#sk-container-id-2 div.sk-parallel-item:first-child::after {align-self: flex-end;width: 50%;}#sk-container-id-2 div.sk-parallel-item:last-child::after {align-self: flex-start;width: 50%;}#sk-container-id-2 div.sk-parallel-item:only-child::after {width: 0;}#sk-container-id-2 div.sk-dashed-wrapped {border: 1px dashed gray;margin: 0 0.4em 0.5em 0.4em;box-sizing: border-box;padding-bottom: 0.4em;background-color: white;}#sk-container-id-2 div.sk-label label {font-family: monospace;font-weight: bold;display: inline-block;line-height: 1.2em;}#sk-container-id-2 div.sk-label-container {text-align: center;}#sk-container-id-2 div.sk-container {/* jupyter's `normalize.less` sets `[hidden] { display: none; }` but bootstrap.min.css set `[hidden] { display: none !important; }` so we also need the `!important` here to be able to override the default hidden behavior on the sphinx rendered scikit-learn.org. See: https://github.com/scikit-learn/scikit-learn/issues/21755 */display: inline-block !important;position: relative;}#sk-container-id-2 div.sk-text-repr-fallback {display: none;}</style><div id=\"sk-container-id-2\" class=\"sk-top-container\"><div class=\"sk-text-repr-fallback\"><pre>Pipeline(steps=[(&#x27;scaler&#x27;, StandardScaler()),\n",
       "                (&#x27;model&#x27;, LogisticRegression(max_iter=4000, random_state=50))])</pre><b>In a Jupyter environment, please rerun this cell to show the HTML representation or trust the notebook. <br />On GitHub, the HTML representation is unable to render, please try loading this page with nbviewer.org.</b></div><div class=\"sk-container\" hidden><div class=\"sk-item sk-dashed-wrapped\"><div class=\"sk-label-container\"><div class=\"sk-label sk-toggleable\"><input class=\"sk-toggleable__control sk-hidden--visually\" id=\"sk-estimator-id-4\" type=\"checkbox\" ><label for=\"sk-estimator-id-4\" class=\"sk-toggleable__label sk-toggleable__label-arrow\">Pipeline</label><div class=\"sk-toggleable__content\"><pre>Pipeline(steps=[(&#x27;scaler&#x27;, StandardScaler()),\n",
       "                (&#x27;model&#x27;, LogisticRegression(max_iter=4000, random_state=50))])</pre></div></div></div><div class=\"sk-serial\"><div class=\"sk-item\"><div class=\"sk-estimator sk-toggleable\"><input class=\"sk-toggleable__control sk-hidden--visually\" id=\"sk-estimator-id-5\" type=\"checkbox\" ><label for=\"sk-estimator-id-5\" class=\"sk-toggleable__label sk-toggleable__label-arrow\">StandardScaler</label><div class=\"sk-toggleable__content\"><pre>StandardScaler()</pre></div></div></div><div class=\"sk-item\"><div class=\"sk-estimator sk-toggleable\"><input class=\"sk-toggleable__control sk-hidden--visually\" id=\"sk-estimator-id-6\" type=\"checkbox\" ><label for=\"sk-estimator-id-6\" class=\"sk-toggleable__label sk-toggleable__label-arrow\">LogisticRegression</label><div class=\"sk-toggleable__content\"><pre>LogisticRegression(max_iter=4000, random_state=50)</pre></div></div></div></div></div></div></div>"
      ],
      "text/plain": [
       "Pipeline(steps=[('scaler', StandardScaler()),\n",
       "                ('model', LogisticRegression(max_iter=4000, random_state=50))])"
      ]
     },
     "execution_count": 20,
     "metadata": {},
     "output_type": "execute_result"
    }
   ],
   "source": [
    "#Only including features above the .05 importance threshold\n",
    "important_features = feature_importance[abs(feature_importance['importance']) > 0.08].index.tolist()\n",
    "X_train_important = X_train[important_features]\n",
    "X_test_important = X_test[important_features]\n",
    "X_val_important = X_val[important_features]\n",
    "\n",
    "#Retrain model \n",
    "pipeline.fit(X_train_important, y_train)\n",
    "\n"
   ]
  },
  {
   "cell_type": "code",
   "execution_count": 21,
   "id": "cf301277",
   "metadata": {
    "execution": {
     "iopub.execute_input": "2024-03-20T04:14:52.154050Z",
     "iopub.status.busy": "2024-03-20T04:14:52.152728Z",
     "iopub.status.idle": "2024-03-20T04:14:52.175757Z",
     "shell.execute_reply": "2024-03-20T04:14:52.174635Z"
    },
    "papermill": {
     "duration": 0.036671,
     "end_time": "2024-03-20T04:14:52.178175",
     "exception": false,
     "start_time": "2024-03-20T04:14:52.141504",
     "status": "completed"
    },
    "tags": []
   },
   "outputs": [
    {
     "name": "stdout",
     "output_type": "stream",
     "text": [
      "Validation Accuracy: 0.7988826815642458\n",
      "              precision    recall  f1-score   support\n",
      "\n",
      "           0       0.80      0.88      0.84       105\n",
      "           1       0.80      0.69      0.74        74\n",
      "\n",
      "    accuracy                           0.80       179\n",
      "   macro avg       0.80      0.78      0.79       179\n",
      "weighted avg       0.80      0.80      0.80       179\n",
      "\n",
      "[[92 13]\n",
      " [23 51]]\n"
     ]
    }
   ],
   "source": [
    "#Cross validation with refined model\n",
    "y_test_pred = pipeline.predict(X_val_important)\n",
    "\n",
    "#Calculating the accuracy on the validation set\n",
    "val_accuracy = accuracy_score(y_val, y_test_pred)\n",
    "print(f'Validation Accuracy: {val_accuracy}')\n",
    "\n",
    "#Printing the classification report for the validation set\n",
    "print(classification_report(y_val, y_test_pred))\n",
    "\n",
    "#Printing the confusion matrix for the validation set\n",
    "print(confusion_matrix(y_val, y_test_pred))"
   ]
  },
  {
   "cell_type": "code",
   "execution_count": 22,
   "id": "cbb3fed0",
   "metadata": {
    "execution": {
     "iopub.execute_input": "2024-03-20T04:14:52.202468Z",
     "iopub.status.busy": "2024-03-20T04:14:52.201186Z",
     "iopub.status.idle": "2024-03-20T04:14:52.210151Z",
     "shell.execute_reply": "2024-03-20T04:14:52.209386Z"
    },
    "papermill": {
     "duration": 0.025272,
     "end_time": "2024-03-20T04:14:52.215187",
     "exception": false,
     "start_time": "2024-03-20T04:14:52.189915",
     "status": "completed"
    },
    "tags": []
   },
   "outputs": [
    {
     "name": "stdout",
     "output_type": "stream",
     "text": [
      "                               importance\n",
      "Title_Pclass_Master_2            0.473215\n",
      "Title_Pclass_Miss_2              0.303931\n",
      "Age_Category_infant              0.285464\n",
      "Title_Pclass_Mrs_2               0.275153\n",
      "FareGroup_Very High              0.251115\n",
      "Fare                             0.182394\n",
      "FareGroup_High                   0.176649\n",
      "Title_Pclass_Master_3            0.138855\n",
      "Age_Category_toddler             0.099809\n",
      "FareGroup_Medium                 0.093963\n",
      "Age                             -0.007549\n",
      "Title_Pclass_Other_2            -0.140723\n",
      "Title_Pclass_Mr_3               -0.171658\n",
      "Title_Other                     -0.175885\n",
      "Parch                           -0.195357\n",
      "Embarked_S                      -0.223464\n",
      "Age_Category_middle_age_adult   -0.234893\n",
      "Title_Pclass_Mrs_3              -0.240464\n",
      "Title_Pclass_Mr_1               -0.240838\n",
      "Fam_size                        -0.355365\n",
      "Title_Miss                      -0.369573\n",
      "SibSp                           -0.376786\n",
      "Title_Pclass_Miss_3             -0.377812\n",
      "Title_Pclass_Mr_2               -0.409804\n",
      "Pclass                          -0.527394\n",
      "Title_Mr                        -0.582802\n",
      "Sex_male                        -1.201015\n"
     ]
    }
   ],
   "source": [
    "#Confirming the important features did change/do what it was suppose to \n",
    "\n",
    "newcoefficients = pipeline.named_steps['model'].coef_[0]\n",
    "\n",
    "newfeature_importance = pd.DataFrame(newcoefficients, index=X_train_important.columns, columns=['importance']).sort_values('importance', ascending=False)\n",
    "print(newfeature_importance)"
   ]
  },
  {
   "cell_type": "code",
   "execution_count": 23,
   "id": "55573150",
   "metadata": {
    "execution": {
     "iopub.execute_input": "2024-03-20T04:14:52.238899Z",
     "iopub.status.busy": "2024-03-20T04:14:52.237721Z",
     "iopub.status.idle": "2024-03-20T04:14:52.242524Z",
     "shell.execute_reply": "2024-03-20T04:14:52.241608Z"
    },
    "papermill": {
     "duration": 0.018342,
     "end_time": "2024-03-20T04:14:52.244325",
     "exception": false,
     "start_time": "2024-03-20T04:14:52.225983",
     "status": "completed"
    },
    "tags": []
   },
   "outputs": [],
   "source": [
    "#Accuracy score stayed at .80 after removing features with accuracy scores below abs(.08) "
   ]
  },
  {
   "cell_type": "code",
   "execution_count": 24,
   "id": "1a3f008a",
   "metadata": {
    "execution": {
     "iopub.execute_input": "2024-03-20T04:14:52.261880Z",
     "iopub.status.busy": "2024-03-20T04:14:52.261043Z",
     "iopub.status.idle": "2024-03-20T04:14:52.277686Z",
     "shell.execute_reply": "2024-03-20T04:14:52.276904Z"
    },
    "papermill": {
     "duration": 0.027813,
     "end_time": "2024-03-20T04:14:52.280051",
     "exception": false,
     "start_time": "2024-03-20T04:14:52.252238",
     "status": "completed"
    },
    "tags": []
   },
   "outputs": [
    {
     "name": "stdout",
     "output_type": "stream",
     "text": [
      "Your submission was successfully saved!\n"
     ]
    }
   ],
   "source": [
    "#Creating submission file\n",
    "#Re-importing the test data\n",
    "test_data_with_id = pd.read_csv('/kaggle/input/titanic/test.csv')\n",
    "\n",
    "#Getting Predictions for submission file\n",
    "predictions = pipeline.predict(X_test_important)\n",
    "\n",
    "output = pd.DataFrame({'PassengerId': test_data_with_id['PassengerId'], 'Survived': predictions})\n",
    "output.to_csv('submission.csv', index=False)\n",
    "print(\"Your submission was successfully saved!\")"
   ]
  },
  {
   "cell_type": "code",
   "execution_count": null,
   "id": "43833e69",
   "metadata": {
    "papermill": {
     "duration": 0.009785,
     "end_time": "2024-03-20T04:14:52.300051",
     "exception": false,
     "start_time": "2024-03-20T04:14:52.290266",
     "status": "completed"
    },
    "tags": []
   },
   "outputs": [],
   "source": []
  }
 ],
 "metadata": {
  "kaggle": {
   "accelerator": "none",
   "dataSources": [
    {
     "databundleVersionId": 26502,
     "sourceId": 3136,
     "sourceType": "competition"
    }
   ],
   "dockerImageVersionId": 30646,
   "isGpuEnabled": false,
   "isInternetEnabled": false,
   "language": "python",
   "sourceType": "notebook"
  },
  "kernelspec": {
   "display_name": "Python 3",
   "language": "python",
   "name": "python3"
  },
  "language_info": {
   "codemirror_mode": {
    "name": "ipython",
    "version": 3
   },
   "file_extension": ".py",
   "mimetype": "text/x-python",
   "name": "python",
   "nbconvert_exporter": "python",
   "pygments_lexer": "ipython3",
   "version": "3.10.13"
  },
  "papermill": {
   "default_parameters": {},
   "duration": 7.741595,
   "end_time": "2024-03-20T04:14:52.931160",
   "environment_variables": {},
   "exception": null,
   "input_path": "__notebook__.ipynb",
   "output_path": "__notebook__.ipynb",
   "parameters": {},
   "start_time": "2024-03-20T04:14:45.189565",
   "version": "2.5.0"
  }
 },
 "nbformat": 4,
 "nbformat_minor": 5
}
